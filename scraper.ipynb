{
 "cells": [
  {
   "cell_type": "code",
   "execution_count": 20,
   "metadata": {},
   "outputs": [],
   "source": [
    "import requests as re\n",
    "from bs4 import BeautifulSoup as bs\n",
    "from PIL import Image\n",
    "from io import BytesIO\n",
    "import os"
   ]
  },
  {
   "cell_type": "code",
   "execution_count": 19,
   "metadata": {},
   "outputs": [
    {
     "name": "stdin",
     "output_type": "stream",
     "text": [
      "Enter what you want to download thor\n"
     ]
    },
    {
     "name": "stdout",
     "output_type": "stream",
     "text": [
      "Turn On your Internet\n"
     ]
    },
    {
     "name": "stdin",
     "output_type": "stream",
     "text": [
      "Enter 1 to download :  1\n",
      "Enter what you want to download thor\n",
      "Enter 1 to download :  0\n"
     ]
    }
   ],
   "source": [
    "def download():\n",
    "    sear=input(\"Enter what you want to download\")\n",
    "    dir_name=sear.replace(\" \",\"_\").lower()\n",
    "\n",
    "    if not os.path.isdir(dir_name):\n",
    "        os.makedirs(dir_name)\n",
    "    try:\n",
    "        url=\"https://www.google.co.in/search?hl=en&authuser=0&tbm=isch&sxsrf=ACYBGNTqJ3ZwcV5hmB-O6u59kOiLufAvgg%3A1576238330586&source=hp&biw=1422&bih=678&ei=-nzzXdTUIeGC4-EPtPmvwA4&q=\"+sear+\"&oq=\"+sear+\"&gs_l=img.3..0l10.4275.5761..6085...0.0..0.221.1387.0j6j2......0....1..gws-wiz-img.......35i39j0i131.TCEhOl4wCmo&ved=0ahUKEwjUuZiuybLmAhVhwTgGHbT8C-gQ4dUDCAY&uact=5\"\n",
    "        r=re.get(url)\n",
    "\n",
    "        soup=bs(r.text,\"html.parser\")\n",
    "        links = soup.findAll(\"img\")\n",
    "\n",
    "        i=0\n",
    "        for item in links:\n",
    "            try :\n",
    "                url2=item.attrs[\"src\"]\n",
    "                img_cnt = re.get(url2)\n",
    "                img = Image.open(BytesIO(img_cnt.content))\n",
    "                img.save(\"./\"+dir_name+\"/\"+sear+str(i)+\".jpg\")\n",
    "            except:\n",
    "                print(\"Image can't be downloaded....\") \n",
    "            i=i+1\n",
    "    except:\n",
    "        print(\"Turn On your Internet\")\n",
    "        \n",
    "def Menu():\n",
    "    inp=1\n",
    "    while inp ==1 :\n",
    "        download()\n",
    "        inp=int(input(\"Enter 1 to download : \"))\n",
    "\n",
    "Menu()"
   ]
  },
  {
   "cell_type": "code",
   "execution_count": null,
   "metadata": {},
   "outputs": [],
   "source": []
  }
 ],
 "metadata": {
  "kernelspec": {
   "display_name": "Python 3",
   "language": "python",
   "name": "python3"
  },
  "language_info": {
   "codemirror_mode": {
    "name": "ipython",
    "version": 3
   },
   "file_extension": ".py",
   "mimetype": "text/x-python",
   "name": "python",
   "nbconvert_exporter": "python",
   "pygments_lexer": "ipython3",
   "version": "3.6.9"
  }
 },
 "nbformat": 4,
 "nbformat_minor": 4
}
